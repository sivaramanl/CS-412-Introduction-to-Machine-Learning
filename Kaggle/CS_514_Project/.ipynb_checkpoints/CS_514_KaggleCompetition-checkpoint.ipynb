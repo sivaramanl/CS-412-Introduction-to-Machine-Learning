{
 "cells": [
  {
   "cell_type": "markdown",
   "metadata": {},
   "source": [
    "<b>Setup:</b>\n",
    "<br>\n",
    "<ol>\n",
    "    <li>Import all the required packages.</li>\n",
    "    <li>Initialize objects for encoders.</li>\n",
    "</ol>"
   ]
  },
  {
   "cell_type": "code",
   "execution_count": 1,
   "metadata": {},
   "outputs": [],
   "source": [
    "import pandas as pd\n",
    "import os\n",
    "import matplotlib.pyplot as plt\n",
    "import seaborn as sns\n",
    "import numpy as np\n",
    "\n",
    "from sklearn import preprocessing\n",
    "from sklearn.preprocessing import LabelEncoder\n",
    "from sklearn.preprocessing import OneHotEncoder\n",
    "from sklearn import metrics\n",
    "from sklearn.ensemble.gradient_boosting import GradientBoostingRegressor\n",
    "from sklearn.metrics import mean_squared_error\n",
    "\n",
    "label_encoder = LabelEncoder()\n",
    "onehot_encoder = OneHotEncoder(sparse=False)"
   ]
  },
  {
   "cell_type": "markdown",
   "metadata": {},
   "source": [
    "<b>Data acquisition:</b>\n",
    "<br>\n",
    "Read the train and test data. They are available in the same directory as the Jupyter notebook."
   ]
  },
  {
   "cell_type": "code",
   "execution_count": 2,
   "metadata": {},
   "outputs": [],
   "source": [
    "train = pd.read_csv(os.path.join('Dataset', 'train.csv'))\n",
    "test = pd.read_csv(os.path.join('Dataset', 'test.csv'))"
   ]
  },
  {
   "cell_type": "markdown",
   "metadata": {},
   "source": [
    "Checking the shape of the train data."
   ]
  },
  {
   "cell_type": "code",
   "execution_count": 3,
   "metadata": {},
   "outputs": [
    {
     "data": {
      "text/plain": [
       "(1460, 81)"
      ]
     },
     "execution_count": 3,
     "metadata": {},
     "output_type": "execute_result"
    }
   ],
   "source": [
    "train.shape"
   ]
  },
  {
   "cell_type": "markdown",
   "metadata": {},
   "source": [
    "Checking the shape of the test data."
   ]
  },
  {
   "cell_type": "code",
   "execution_count": 4,
   "metadata": {},
   "outputs": [
    {
     "data": {
      "text/plain": [
       "(1459, 80)"
      ]
     },
     "execution_count": 4,
     "metadata": {},
     "output_type": "execute_result"
    }
   ],
   "source": [
    "test.shape"
   ]
  },
  {
   "cell_type": "markdown",
   "metadata": {},
   "source": [
    "Generate copies of the train and test data for processing."
   ]
  },
  {
   "cell_type": "code",
   "execution_count": 5,
   "metadata": {},
   "outputs": [],
   "source": [
    "train_processed = train.copy()\n",
    "test_processed = test.copy()"
   ]
  },
  {
   "cell_type": "markdown",
   "metadata": {},
   "source": [
    "Statistical description of the train data."
   ]
  },
  {
   "cell_type": "code",
   "execution_count": 6,
   "metadata": {},
   "outputs": [
    {
     "data": {
      "text/html": [
       "<div>\n",
       "<style scoped>\n",
       "    .dataframe tbody tr th:only-of-type {\n",
       "        vertical-align: middle;\n",
       "    }\n",
       "\n",
       "    .dataframe tbody tr th {\n",
       "        vertical-align: top;\n",
       "    }\n",
       "\n",
       "    .dataframe thead th {\n",
       "        text-align: right;\n",
       "    }\n",
       "</style>\n",
       "<table border=\"1\" class=\"dataframe\">\n",
       "  <thead>\n",
       "    <tr style=\"text-align: right;\">\n",
       "      <th></th>\n",
       "      <th>Id</th>\n",
       "      <th>MSSubClass</th>\n",
       "      <th>LotFrontage</th>\n",
       "      <th>LotArea</th>\n",
       "      <th>OverallQual</th>\n",
       "      <th>OverallCond</th>\n",
       "      <th>YearBuilt</th>\n",
       "      <th>YearRemodAdd</th>\n",
       "      <th>MasVnrArea</th>\n",
       "      <th>BsmtFinSF1</th>\n",
       "      <th>...</th>\n",
       "      <th>WoodDeckSF</th>\n",
       "      <th>OpenPorchSF</th>\n",
       "      <th>EnclosedPorch</th>\n",
       "      <th>3SsnPorch</th>\n",
       "      <th>ScreenPorch</th>\n",
       "      <th>PoolArea</th>\n",
       "      <th>MiscVal</th>\n",
       "      <th>MoSold</th>\n",
       "      <th>YrSold</th>\n",
       "      <th>SalePrice</th>\n",
       "    </tr>\n",
       "  </thead>\n",
       "  <tbody>\n",
       "    <tr>\n",
       "      <th>count</th>\n",
       "      <td>1460.000000</td>\n",
       "      <td>1460.000000</td>\n",
       "      <td>1201.000000</td>\n",
       "      <td>1460.000000</td>\n",
       "      <td>1460.000000</td>\n",
       "      <td>1460.000000</td>\n",
       "      <td>1460.000000</td>\n",
       "      <td>1460.000000</td>\n",
       "      <td>1452.000000</td>\n",
       "      <td>1460.000000</td>\n",
       "      <td>...</td>\n",
       "      <td>1460.000000</td>\n",
       "      <td>1460.000000</td>\n",
       "      <td>1460.000000</td>\n",
       "      <td>1460.000000</td>\n",
       "      <td>1460.000000</td>\n",
       "      <td>1460.000000</td>\n",
       "      <td>1460.000000</td>\n",
       "      <td>1460.000000</td>\n",
       "      <td>1460.000000</td>\n",
       "      <td>1460.000000</td>\n",
       "    </tr>\n",
       "    <tr>\n",
       "      <th>mean</th>\n",
       "      <td>730.500000</td>\n",
       "      <td>56.897260</td>\n",
       "      <td>70.049958</td>\n",
       "      <td>10516.828082</td>\n",
       "      <td>6.099315</td>\n",
       "      <td>5.575342</td>\n",
       "      <td>1971.267808</td>\n",
       "      <td>1984.865753</td>\n",
       "      <td>103.685262</td>\n",
       "      <td>443.639726</td>\n",
       "      <td>...</td>\n",
       "      <td>94.244521</td>\n",
       "      <td>46.660274</td>\n",
       "      <td>21.954110</td>\n",
       "      <td>3.409589</td>\n",
       "      <td>15.060959</td>\n",
       "      <td>2.758904</td>\n",
       "      <td>43.489041</td>\n",
       "      <td>6.321918</td>\n",
       "      <td>2007.815753</td>\n",
       "      <td>180921.195890</td>\n",
       "    </tr>\n",
       "    <tr>\n",
       "      <th>std</th>\n",
       "      <td>421.610009</td>\n",
       "      <td>42.300571</td>\n",
       "      <td>24.284752</td>\n",
       "      <td>9981.264932</td>\n",
       "      <td>1.382997</td>\n",
       "      <td>1.112799</td>\n",
       "      <td>30.202904</td>\n",
       "      <td>20.645407</td>\n",
       "      <td>181.066207</td>\n",
       "      <td>456.098091</td>\n",
       "      <td>...</td>\n",
       "      <td>125.338794</td>\n",
       "      <td>66.256028</td>\n",
       "      <td>61.119149</td>\n",
       "      <td>29.317331</td>\n",
       "      <td>55.757415</td>\n",
       "      <td>40.177307</td>\n",
       "      <td>496.123024</td>\n",
       "      <td>2.703626</td>\n",
       "      <td>1.328095</td>\n",
       "      <td>79442.502883</td>\n",
       "    </tr>\n",
       "    <tr>\n",
       "      <th>min</th>\n",
       "      <td>1.000000</td>\n",
       "      <td>20.000000</td>\n",
       "      <td>21.000000</td>\n",
       "      <td>1300.000000</td>\n",
       "      <td>1.000000</td>\n",
       "      <td>1.000000</td>\n",
       "      <td>1872.000000</td>\n",
       "      <td>1950.000000</td>\n",
       "      <td>0.000000</td>\n",
       "      <td>0.000000</td>\n",
       "      <td>...</td>\n",
       "      <td>0.000000</td>\n",
       "      <td>0.000000</td>\n",
       "      <td>0.000000</td>\n",
       "      <td>0.000000</td>\n",
       "      <td>0.000000</td>\n",
       "      <td>0.000000</td>\n",
       "      <td>0.000000</td>\n",
       "      <td>1.000000</td>\n",
       "      <td>2006.000000</td>\n",
       "      <td>34900.000000</td>\n",
       "    </tr>\n",
       "    <tr>\n",
       "      <th>25%</th>\n",
       "      <td>365.750000</td>\n",
       "      <td>20.000000</td>\n",
       "      <td>59.000000</td>\n",
       "      <td>7553.500000</td>\n",
       "      <td>5.000000</td>\n",
       "      <td>5.000000</td>\n",
       "      <td>1954.000000</td>\n",
       "      <td>1967.000000</td>\n",
       "      <td>0.000000</td>\n",
       "      <td>0.000000</td>\n",
       "      <td>...</td>\n",
       "      <td>0.000000</td>\n",
       "      <td>0.000000</td>\n",
       "      <td>0.000000</td>\n",
       "      <td>0.000000</td>\n",
       "      <td>0.000000</td>\n",
       "      <td>0.000000</td>\n",
       "      <td>0.000000</td>\n",
       "      <td>5.000000</td>\n",
       "      <td>2007.000000</td>\n",
       "      <td>129975.000000</td>\n",
       "    </tr>\n",
       "    <tr>\n",
       "      <th>50%</th>\n",
       "      <td>730.500000</td>\n",
       "      <td>50.000000</td>\n",
       "      <td>69.000000</td>\n",
       "      <td>9478.500000</td>\n",
       "      <td>6.000000</td>\n",
       "      <td>5.000000</td>\n",
       "      <td>1973.000000</td>\n",
       "      <td>1994.000000</td>\n",
       "      <td>0.000000</td>\n",
       "      <td>383.500000</td>\n",
       "      <td>...</td>\n",
       "      <td>0.000000</td>\n",
       "      <td>25.000000</td>\n",
       "      <td>0.000000</td>\n",
       "      <td>0.000000</td>\n",
       "      <td>0.000000</td>\n",
       "      <td>0.000000</td>\n",
       "      <td>0.000000</td>\n",
       "      <td>6.000000</td>\n",
       "      <td>2008.000000</td>\n",
       "      <td>163000.000000</td>\n",
       "    </tr>\n",
       "    <tr>\n",
       "      <th>75%</th>\n",
       "      <td>1095.250000</td>\n",
       "      <td>70.000000</td>\n",
       "      <td>80.000000</td>\n",
       "      <td>11601.500000</td>\n",
       "      <td>7.000000</td>\n",
       "      <td>6.000000</td>\n",
       "      <td>2000.000000</td>\n",
       "      <td>2004.000000</td>\n",
       "      <td>166.000000</td>\n",
       "      <td>712.250000</td>\n",
       "      <td>...</td>\n",
       "      <td>168.000000</td>\n",
       "      <td>68.000000</td>\n",
       "      <td>0.000000</td>\n",
       "      <td>0.000000</td>\n",
       "      <td>0.000000</td>\n",
       "      <td>0.000000</td>\n",
       "      <td>0.000000</td>\n",
       "      <td>8.000000</td>\n",
       "      <td>2009.000000</td>\n",
       "      <td>214000.000000</td>\n",
       "    </tr>\n",
       "    <tr>\n",
       "      <th>max</th>\n",
       "      <td>1460.000000</td>\n",
       "      <td>190.000000</td>\n",
       "      <td>313.000000</td>\n",
       "      <td>215245.000000</td>\n",
       "      <td>10.000000</td>\n",
       "      <td>9.000000</td>\n",
       "      <td>2010.000000</td>\n",
       "      <td>2010.000000</td>\n",
       "      <td>1600.000000</td>\n",
       "      <td>5644.000000</td>\n",
       "      <td>...</td>\n",
       "      <td>857.000000</td>\n",
       "      <td>547.000000</td>\n",
       "      <td>552.000000</td>\n",
       "      <td>508.000000</td>\n",
       "      <td>480.000000</td>\n",
       "      <td>738.000000</td>\n",
       "      <td>15500.000000</td>\n",
       "      <td>12.000000</td>\n",
       "      <td>2010.000000</td>\n",
       "      <td>755000.000000</td>\n",
       "    </tr>\n",
       "  </tbody>\n",
       "</table>\n",
       "<p>8 rows × 38 columns</p>\n",
       "</div>"
      ],
      "text/plain": [
       "                Id   MSSubClass  LotFrontage        LotArea  OverallQual  \\\n",
       "count  1460.000000  1460.000000  1201.000000    1460.000000  1460.000000   \n",
       "mean    730.500000    56.897260    70.049958   10516.828082     6.099315   \n",
       "std     421.610009    42.300571    24.284752    9981.264932     1.382997   \n",
       "min       1.000000    20.000000    21.000000    1300.000000     1.000000   \n",
       "25%     365.750000    20.000000    59.000000    7553.500000     5.000000   \n",
       "50%     730.500000    50.000000    69.000000    9478.500000     6.000000   \n",
       "75%    1095.250000    70.000000    80.000000   11601.500000     7.000000   \n",
       "max    1460.000000   190.000000   313.000000  215245.000000    10.000000   \n",
       "\n",
       "       OverallCond    YearBuilt  YearRemodAdd   MasVnrArea   BsmtFinSF1  \\\n",
       "count  1460.000000  1460.000000   1460.000000  1452.000000  1460.000000   \n",
       "mean      5.575342  1971.267808   1984.865753   103.685262   443.639726   \n",
       "std       1.112799    30.202904     20.645407   181.066207   456.098091   \n",
       "min       1.000000  1872.000000   1950.000000     0.000000     0.000000   \n",
       "25%       5.000000  1954.000000   1967.000000     0.000000     0.000000   \n",
       "50%       5.000000  1973.000000   1994.000000     0.000000   383.500000   \n",
       "75%       6.000000  2000.000000   2004.000000   166.000000   712.250000   \n",
       "max       9.000000  2010.000000   2010.000000  1600.000000  5644.000000   \n",
       "\n",
       "           ...         WoodDeckSF  OpenPorchSF  EnclosedPorch    3SsnPorch  \\\n",
       "count      ...        1460.000000  1460.000000    1460.000000  1460.000000   \n",
       "mean       ...          94.244521    46.660274      21.954110     3.409589   \n",
       "std        ...         125.338794    66.256028      61.119149    29.317331   \n",
       "min        ...           0.000000     0.000000       0.000000     0.000000   \n",
       "25%        ...           0.000000     0.000000       0.000000     0.000000   \n",
       "50%        ...           0.000000    25.000000       0.000000     0.000000   \n",
       "75%        ...         168.000000    68.000000       0.000000     0.000000   \n",
       "max        ...         857.000000   547.000000     552.000000   508.000000   \n",
       "\n",
       "       ScreenPorch     PoolArea       MiscVal       MoSold       YrSold  \\\n",
       "count  1460.000000  1460.000000   1460.000000  1460.000000  1460.000000   \n",
       "mean     15.060959     2.758904     43.489041     6.321918  2007.815753   \n",
       "std      55.757415    40.177307    496.123024     2.703626     1.328095   \n",
       "min       0.000000     0.000000      0.000000     1.000000  2006.000000   \n",
       "25%       0.000000     0.000000      0.000000     5.000000  2007.000000   \n",
       "50%       0.000000     0.000000      0.000000     6.000000  2008.000000   \n",
       "75%       0.000000     0.000000      0.000000     8.000000  2009.000000   \n",
       "max     480.000000   738.000000  15500.000000    12.000000  2010.000000   \n",
       "\n",
       "           SalePrice  \n",
       "count    1460.000000  \n",
       "mean   180921.195890  \n",
       "std     79442.502883  \n",
       "min     34900.000000  \n",
       "25%    129975.000000  \n",
       "50%    163000.000000  \n",
       "75%    214000.000000  \n",
       "max    755000.000000  \n",
       "\n",
       "[8 rows x 38 columns]"
      ]
     },
     "execution_count": 6,
     "metadata": {},
     "output_type": "execute_result"
    }
   ],
   "source": [
    "train_processed.describe()"
   ]
  },
  {
   "cell_type": "code",
   "execution_count": 7,
   "metadata": {},
   "outputs": [],
   "source": [
    "#Assigning the target variable value for future use.\n",
    "target_col = 'SalePrice'"
   ]
  },
  {
   "cell_type": "markdown",
   "metadata": {},
   "source": [
    "<b>Data cleaning and pre-processing:</b>"
   ]
  },
  {
   "cell_type": "markdown",
   "metadata": {},
   "source": [
    "• Check and remove if there are any rows with empty value for target columns."
   ]
  },
  {
   "cell_type": "code",
   "execution_count": 8,
   "metadata": {},
   "outputs": [
    {
     "name": "stdout",
     "output_type": "stream",
     "text": [
      "Initial shape: (1460, 81)\n",
      "Final shape: (1460, 81)\n"
     ]
    }
   ],
   "source": [
    "#Checking if any rows contain empty value for target columns\n",
    "print(\"Initial shape:\", train_processed.shape)\n",
    "if train_processed[train_processed[target_col].isnull() == True].shape[0] > 0:\n",
    "    train_processed = train_processed[train_processed[target_col].isnull() == False]\n",
    "print(\"Final shape:\", train_processed.shape)"
   ]
  },
  {
   "cell_type": "markdown",
   "metadata": {},
   "source": [
    "• Extracting the target column separately."
   ]
  },
  {
   "cell_type": "code",
   "execution_count": 9,
   "metadata": {},
   "outputs": [],
   "source": [
    "y_train = train_processed[target_col]"
   ]
  },
  {
   "cell_type": "code",
   "execution_count": 10,
   "metadata": {},
   "outputs": [
    {
     "data": {
      "text/plain": [
       "1460"
      ]
     },
     "execution_count": 10,
     "metadata": {},
     "output_type": "execute_result"
    }
   ],
   "source": [
    "y_train.shape[0]"
   ]
  },
  {
   "cell_type": "markdown",
   "metadata": {},
   "source": [
    "• Dropping the target column from the train data.\n",
    "<br>\n",
    "• Additionally, the 'Id' column is also dropped since it doesn't contribute to the dataset."
   ]
  },
  {
   "cell_type": "code",
   "execution_count": 11,
   "metadata": {},
   "outputs": [],
   "source": [
    "if target_col in train_processed.columns:\n",
    "    train_processed.drop([target_col], axis=1, inplace = True)\n",
    "if 'Id' in train_processed.columns:\n",
    "    train_processed.drop(['Id'], axis=1, inplace = True)\n",
    "if target_col in test_processed.columns:\n",
    "    test_processed.drop([target_col], axis=1, inplace = True)\n",
    "if 'Id' in test_processed.columns:\n",
    "    test_processed.drop(['Id'], axis=1, inplace = True)"
   ]
  },
  {
   "cell_type": "markdown",
   "metadata": {},
   "source": [
    "<ul>\n",
    "    <li>All the categorical columns have been identified using the description of the data provided in 'data_description.txt'.</li>\n",
    "    <li>This is necessary since there are columns with numerical values that are in fact categorical in nature.</li>\n",
    "    <li>Finally, we mark all other columns as numerical columns.</li>\n",
    "</ul>"
   ]
  },
  {
   "cell_type": "code",
   "execution_count": 12,
   "metadata": {},
   "outputs": [],
   "source": [
    "categorical_data_attributes = ['MSSubClass', 'MSZoning', 'Street', 'Alley', 'LotShape', 'LandContour', \n",
    "                               'Utilities','LotConfig', 'LandSlope', 'Neighborhood', 'Condition1', \n",
    "                               'Condition2', 'BldgType', 'HouseStyle','RoofStyle', 'RoofMatl', \n",
    "                               'Exterior1st', 'Exterior2nd', 'MasVnrType', 'ExterQual', 'ExterCond',\n",
    "                              'Foundation', 'BsmtQual', 'BsmtCond', 'BsmtExposure', 'BsmtFinType1',\n",
    "                               'BsmtFinType2', 'Heating','HeatingQC', 'Electrical', 'KitchenQual',\n",
    "                               'Functional', 'FireplaceQu', 'GarageType','GarageFinish', 'GarageQual',\n",
    "                               'GarageCond', 'PavedDrive', 'PoolQC', 'Fence', 'MoSold','MiscFeature', \n",
    "                               'SaleType', 'SaleCondition', 'OverallQual', 'OverallCond', 'CentralAir']\n",
    "\n",
    "to_transform_data_attributes = ['YearBuilt', 'YearRemodAdd', 'GarageYrBlt', 'YrSold']\n",
    "\n",
    "cols = train_processed.columns\n",
    "\n",
    "num_cols = list(set(cols) - set(categorical_data_attributes) - set(to_transform_data_attributes))"
   ]
  },
  {
   "cell_type": "markdown",
   "metadata": {},
   "source": [
    "• Here, the columns with missing values are enumerated in terms of percentage of missing values per column.\n",
    "<br>\n",
    "• A threshold, <i>50%</i>, is set for filtering out columns with percent of missing values greater than the specified value.\n",
    "<br>\n",
    "• This is done to ensure that the data transformation, to be applied, doesn't skew the dataset towards any particular bias."
   ]
  },
  {
   "cell_type": "code",
   "execution_count": 14,
   "metadata": {
    "scrolled": false
   },
   "outputs": [
    {
     "name": "stdout",
     "output_type": "stream",
     "text": [
      "Columns to be dropped due to missing values: ['Alley', 'PoolQC', 'Fence', 'MiscFeature']\n"
     ]
    }
   ],
   "source": [
    "null_value_counts = train_processed.isnull().sum()\n",
    "null_value_percent = null_value_counts/train_processed.shape[0]\n",
    "significance_level = 0.5\n",
    "null_value_majority = null_value_percent[null_value_percent>significance_level]\n",
    "null_value_majority_columns = (null_value_majority.reset_index().iloc[:,0]).values\n",
    "print(\"Columns to be dropped due to missing values:\", [x for x in null_value_majority_columns])"
   ]
  },
  {
   "cell_type": "markdown",
   "metadata": {},
   "source": [
    "<b>Data Transformations:</b>"
   ]
  },
  {
   "cell_type": "markdown",
   "metadata": {},
   "source": [
    "The following transformations are applied onto the test and training data.\n",
    "<ol>\n",
    "    <li>The columns identified with missing values over the specified threshold are removed from the datasets.</li>\n",
    "    <li>All the categorical columns are transformed into one-hot encoded columns with the original columns dropped from the datasets. Any missing values are replaced with the mode values for the corresponding columns.</li>\n",
    "    <li>The missing values in numercial columns are filled using the mode or median values for the coressponding columns.</li>\n",
    "    <li>Few numerical columns are transformed as follows:\n",
    "        <ol>\n",
    "            <li>The age of the house at the time of sale is calculated and added as a new column.</li>\n",
    "            <li>The years since the remodel is calculated and added as a new column.</li>\n",
    "            <li>The age of the garage is also calculated similarly and added as a new column.</li>\n",
    "        </ol>\n",
    "    </li>\n",
    "    <li>Additionally, the year of sale is converted to string values.</li>\n",
    "</ol>"
   ]
  },
  {
   "cell_type": "code",
   "execution_count": 17,
   "metadata": {
    "scrolled": false
   },
   "outputs": [
    {
     "name": "stdout",
     "output_type": "stream",
     "text": [
      "Transformed train data:\n"
     ]
    },
    {
     "data": {
      "text/html": [
       "<div>\n",
       "<style scoped>\n",
       "    .dataframe tbody tr th:only-of-type {\n",
       "        vertical-align: middle;\n",
       "    }\n",
       "\n",
       "    .dataframe tbody tr th {\n",
       "        vertical-align: top;\n",
       "    }\n",
       "\n",
       "    .dataframe thead th {\n",
       "        text-align: right;\n",
       "    }\n",
       "</style>\n",
       "<table border=\"1\" class=\"dataframe\">\n",
       "  <thead>\n",
       "    <tr style=\"text-align: right;\">\n",
       "      <th></th>\n",
       "      <th>LotFrontage</th>\n",
       "      <th>LotArea</th>\n",
       "      <th>MasVnrArea</th>\n",
       "      <th>BsmtFinSF1</th>\n",
       "      <th>BsmtFinSF2</th>\n",
       "      <th>BsmtUnfSF</th>\n",
       "      <th>TotalBsmtSF</th>\n",
       "      <th>1stFlrSF</th>\n",
       "      <th>2ndFlrSF</th>\n",
       "      <th>LowQualFinSF</th>\n",
       "      <th>...</th>\n",
       "      <th>OverallCond_5</th>\n",
       "      <th>OverallCond_6</th>\n",
       "      <th>OverallCond_7</th>\n",
       "      <th>OverallCond_8</th>\n",
       "      <th>OverallCond_9</th>\n",
       "      <th>CentralAir_N</th>\n",
       "      <th>CentralAir_Y</th>\n",
       "      <th>Age_of_house</th>\n",
       "      <th>Remodel_age</th>\n",
       "      <th>Garage_age</th>\n",
       "    </tr>\n",
       "  </thead>\n",
       "  <tbody>\n",
       "    <tr>\n",
       "      <th>0</th>\n",
       "      <td>65.0</td>\n",
       "      <td>8450</td>\n",
       "      <td>196.0</td>\n",
       "      <td>706.0</td>\n",
       "      <td>0.0</td>\n",
       "      <td>150.0</td>\n",
       "      <td>856.0</td>\n",
       "      <td>856</td>\n",
       "      <td>854</td>\n",
       "      <td>0</td>\n",
       "      <td>...</td>\n",
       "      <td>1</td>\n",
       "      <td>0</td>\n",
       "      <td>0</td>\n",
       "      <td>0</td>\n",
       "      <td>0</td>\n",
       "      <td>0</td>\n",
       "      <td>1</td>\n",
       "      <td>5.0</td>\n",
       "      <td>5.0</td>\n",
       "      <td>5.0</td>\n",
       "    </tr>\n",
       "    <tr>\n",
       "      <th>1</th>\n",
       "      <td>80.0</td>\n",
       "      <td>9600</td>\n",
       "      <td>0.0</td>\n",
       "      <td>978.0</td>\n",
       "      <td>0.0</td>\n",
       "      <td>284.0</td>\n",
       "      <td>1262.0</td>\n",
       "      <td>1262</td>\n",
       "      <td>0</td>\n",
       "      <td>0</td>\n",
       "      <td>...</td>\n",
       "      <td>0</td>\n",
       "      <td>0</td>\n",
       "      <td>0</td>\n",
       "      <td>1</td>\n",
       "      <td>0</td>\n",
       "      <td>0</td>\n",
       "      <td>1</td>\n",
       "      <td>31.0</td>\n",
       "      <td>31.0</td>\n",
       "      <td>31.0</td>\n",
       "    </tr>\n",
       "    <tr>\n",
       "      <th>2</th>\n",
       "      <td>68.0</td>\n",
       "      <td>11250</td>\n",
       "      <td>162.0</td>\n",
       "      <td>486.0</td>\n",
       "      <td>0.0</td>\n",
       "      <td>434.0</td>\n",
       "      <td>920.0</td>\n",
       "      <td>920</td>\n",
       "      <td>866</td>\n",
       "      <td>0</td>\n",
       "      <td>...</td>\n",
       "      <td>1</td>\n",
       "      <td>0</td>\n",
       "      <td>0</td>\n",
       "      <td>0</td>\n",
       "      <td>0</td>\n",
       "      <td>0</td>\n",
       "      <td>1</td>\n",
       "      <td>7.0</td>\n",
       "      <td>6.0</td>\n",
       "      <td>7.0</td>\n",
       "    </tr>\n",
       "    <tr>\n",
       "      <th>3</th>\n",
       "      <td>60.0</td>\n",
       "      <td>9550</td>\n",
       "      <td>0.0</td>\n",
       "      <td>216.0</td>\n",
       "      <td>0.0</td>\n",
       "      <td>540.0</td>\n",
       "      <td>756.0</td>\n",
       "      <td>961</td>\n",
       "      <td>756</td>\n",
       "      <td>0</td>\n",
       "      <td>...</td>\n",
       "      <td>1</td>\n",
       "      <td>0</td>\n",
       "      <td>0</td>\n",
       "      <td>0</td>\n",
       "      <td>0</td>\n",
       "      <td>0</td>\n",
       "      <td>1</td>\n",
       "      <td>91.0</td>\n",
       "      <td>36.0</td>\n",
       "      <td>8.0</td>\n",
       "    </tr>\n",
       "    <tr>\n",
       "      <th>4</th>\n",
       "      <td>84.0</td>\n",
       "      <td>14260</td>\n",
       "      <td>350.0</td>\n",
       "      <td>655.0</td>\n",
       "      <td>0.0</td>\n",
       "      <td>490.0</td>\n",
       "      <td>1145.0</td>\n",
       "      <td>1145</td>\n",
       "      <td>1053</td>\n",
       "      <td>0</td>\n",
       "      <td>...</td>\n",
       "      <td>1</td>\n",
       "      <td>0</td>\n",
       "      <td>0</td>\n",
       "      <td>0</td>\n",
       "      <td>0</td>\n",
       "      <td>0</td>\n",
       "      <td>1</td>\n",
       "      <td>8.0</td>\n",
       "      <td>8.0</td>\n",
       "      <td>8.0</td>\n",
       "    </tr>\n",
       "    <tr>\n",
       "      <th>5</th>\n",
       "      <td>85.0</td>\n",
       "      <td>14115</td>\n",
       "      <td>0.0</td>\n",
       "      <td>732.0</td>\n",
       "      <td>0.0</td>\n",
       "      <td>64.0</td>\n",
       "      <td>796.0</td>\n",
       "      <td>796</td>\n",
       "      <td>566</td>\n",
       "      <td>0</td>\n",
       "      <td>...</td>\n",
       "      <td>1</td>\n",
       "      <td>0</td>\n",
       "      <td>0</td>\n",
       "      <td>0</td>\n",
       "      <td>0</td>\n",
       "      <td>0</td>\n",
       "      <td>1</td>\n",
       "      <td>16.0</td>\n",
       "      <td>14.0</td>\n",
       "      <td>16.0</td>\n",
       "    </tr>\n",
       "    <tr>\n",
       "      <th>6</th>\n",
       "      <td>75.0</td>\n",
       "      <td>10084</td>\n",
       "      <td>186.0</td>\n",
       "      <td>1369.0</td>\n",
       "      <td>0.0</td>\n",
       "      <td>317.0</td>\n",
       "      <td>1686.0</td>\n",
       "      <td>1694</td>\n",
       "      <td>0</td>\n",
       "      <td>0</td>\n",
       "      <td>...</td>\n",
       "      <td>1</td>\n",
       "      <td>0</td>\n",
       "      <td>0</td>\n",
       "      <td>0</td>\n",
       "      <td>0</td>\n",
       "      <td>0</td>\n",
       "      <td>1</td>\n",
       "      <td>3.0</td>\n",
       "      <td>2.0</td>\n",
       "      <td>3.0</td>\n",
       "    </tr>\n",
       "    <tr>\n",
       "      <th>7</th>\n",
       "      <td>68.0</td>\n",
       "      <td>10382</td>\n",
       "      <td>240.0</td>\n",
       "      <td>859.0</td>\n",
       "      <td>32.0</td>\n",
       "      <td>216.0</td>\n",
       "      <td>1107.0</td>\n",
       "      <td>1107</td>\n",
       "      <td>983</td>\n",
       "      <td>0</td>\n",
       "      <td>...</td>\n",
       "      <td>0</td>\n",
       "      <td>1</td>\n",
       "      <td>0</td>\n",
       "      <td>0</td>\n",
       "      <td>0</td>\n",
       "      <td>0</td>\n",
       "      <td>1</td>\n",
       "      <td>36.0</td>\n",
       "      <td>36.0</td>\n",
       "      <td>36.0</td>\n",
       "    </tr>\n",
       "    <tr>\n",
       "      <th>8</th>\n",
       "      <td>51.0</td>\n",
       "      <td>6120</td>\n",
       "      <td>0.0</td>\n",
       "      <td>0.0</td>\n",
       "      <td>0.0</td>\n",
       "      <td>952.0</td>\n",
       "      <td>952.0</td>\n",
       "      <td>1022</td>\n",
       "      <td>752</td>\n",
       "      <td>0</td>\n",
       "      <td>...</td>\n",
       "      <td>1</td>\n",
       "      <td>0</td>\n",
       "      <td>0</td>\n",
       "      <td>0</td>\n",
       "      <td>0</td>\n",
       "      <td>0</td>\n",
       "      <td>1</td>\n",
       "      <td>77.0</td>\n",
       "      <td>58.0</td>\n",
       "      <td>77.0</td>\n",
       "    </tr>\n",
       "    <tr>\n",
       "      <th>9</th>\n",
       "      <td>50.0</td>\n",
       "      <td>7420</td>\n",
       "      <td>0.0</td>\n",
       "      <td>851.0</td>\n",
       "      <td>0.0</td>\n",
       "      <td>140.0</td>\n",
       "      <td>991.0</td>\n",
       "      <td>1077</td>\n",
       "      <td>0</td>\n",
       "      <td>0</td>\n",
       "      <td>...</td>\n",
       "      <td>0</td>\n",
       "      <td>1</td>\n",
       "      <td>0</td>\n",
       "      <td>0</td>\n",
       "      <td>0</td>\n",
       "      <td>0</td>\n",
       "      <td>1</td>\n",
       "      <td>69.0</td>\n",
       "      <td>58.0</td>\n",
       "      <td>69.0</td>\n",
       "    </tr>\n",
       "  </tbody>\n",
       "</table>\n",
       "<p>10 rows × 318 columns</p>\n",
       "</div>"
      ],
      "text/plain": [
       "   LotFrontage  LotArea  MasVnrArea  BsmtFinSF1  BsmtFinSF2  BsmtUnfSF  \\\n",
       "0         65.0     8450       196.0       706.0         0.0      150.0   \n",
       "1         80.0     9600         0.0       978.0         0.0      284.0   \n",
       "2         68.0    11250       162.0       486.0         0.0      434.0   \n",
       "3         60.0     9550         0.0       216.0         0.0      540.0   \n",
       "4         84.0    14260       350.0       655.0         0.0      490.0   \n",
       "5         85.0    14115         0.0       732.0         0.0       64.0   \n",
       "6         75.0    10084       186.0      1369.0         0.0      317.0   \n",
       "7         68.0    10382       240.0       859.0        32.0      216.0   \n",
       "8         51.0     6120         0.0         0.0         0.0      952.0   \n",
       "9         50.0     7420         0.0       851.0         0.0      140.0   \n",
       "\n",
       "   TotalBsmtSF  1stFlrSF  2ndFlrSF  LowQualFinSF     ...      OverallCond_5  \\\n",
       "0        856.0       856       854             0     ...                  1   \n",
       "1       1262.0      1262         0             0     ...                  0   \n",
       "2        920.0       920       866             0     ...                  1   \n",
       "3        756.0       961       756             0     ...                  1   \n",
       "4       1145.0      1145      1053             0     ...                  1   \n",
       "5        796.0       796       566             0     ...                  1   \n",
       "6       1686.0      1694         0             0     ...                  1   \n",
       "7       1107.0      1107       983             0     ...                  0   \n",
       "8        952.0      1022       752             0     ...                  1   \n",
       "9        991.0      1077         0             0     ...                  0   \n",
       "\n",
       "   OverallCond_6  OverallCond_7  OverallCond_8  OverallCond_9  CentralAir_N  \\\n",
       "0              0              0              0              0             0   \n",
       "1              0              0              1              0             0   \n",
       "2              0              0              0              0             0   \n",
       "3              0              0              0              0             0   \n",
       "4              0              0              0              0             0   \n",
       "5              0              0              0              0             0   \n",
       "6              0              0              0              0             0   \n",
       "7              1              0              0              0             0   \n",
       "8              0              0              0              0             0   \n",
       "9              1              0              0              0             0   \n",
       "\n",
       "   CentralAir_Y  Age_of_house  Remodel_age  Garage_age  \n",
       "0             1           5.0          5.0         5.0  \n",
       "1             1          31.0         31.0        31.0  \n",
       "2             1           7.0          6.0         7.0  \n",
       "3             1          91.0         36.0         8.0  \n",
       "4             1           8.0          8.0         8.0  \n",
       "5             1          16.0         14.0        16.0  \n",
       "6             1           3.0          2.0         3.0  \n",
       "7             1          36.0         36.0        36.0  \n",
       "8             1          77.0         58.0        77.0  \n",
       "9             1          69.0         58.0        69.0  \n",
       "\n",
       "[10 rows x 318 columns]"
      ]
     },
     "metadata": {},
     "output_type": "display_data"
    },
    {
     "name": "stdout",
     "output_type": "stream",
     "text": [
      "\n",
      "Transformed test data:\n"
     ]
    },
    {
     "data": {
      "text/html": [
       "<div>\n",
       "<style scoped>\n",
       "    .dataframe tbody tr th:only-of-type {\n",
       "        vertical-align: middle;\n",
       "    }\n",
       "\n",
       "    .dataframe tbody tr th {\n",
       "        vertical-align: top;\n",
       "    }\n",
       "\n",
       "    .dataframe thead th {\n",
       "        text-align: right;\n",
       "    }\n",
       "</style>\n",
       "<table border=\"1\" class=\"dataframe\">\n",
       "  <thead>\n",
       "    <tr style=\"text-align: right;\">\n",
       "      <th></th>\n",
       "      <th>LotFrontage</th>\n",
       "      <th>LotArea</th>\n",
       "      <th>MasVnrArea</th>\n",
       "      <th>BsmtFinSF1</th>\n",
       "      <th>BsmtFinSF2</th>\n",
       "      <th>BsmtUnfSF</th>\n",
       "      <th>TotalBsmtSF</th>\n",
       "      <th>1stFlrSF</th>\n",
       "      <th>2ndFlrSF</th>\n",
       "      <th>LowQualFinSF</th>\n",
       "      <th>...</th>\n",
       "      <th>OverallCond_5</th>\n",
       "      <th>OverallCond_6</th>\n",
       "      <th>OverallCond_7</th>\n",
       "      <th>OverallCond_8</th>\n",
       "      <th>OverallCond_9</th>\n",
       "      <th>CentralAir_N</th>\n",
       "      <th>CentralAir_Y</th>\n",
       "      <th>Age_of_house</th>\n",
       "      <th>Remodel_age</th>\n",
       "      <th>Garage_age</th>\n",
       "    </tr>\n",
       "  </thead>\n",
       "  <tbody>\n",
       "    <tr>\n",
       "      <th>1460</th>\n",
       "      <td>80.0</td>\n",
       "      <td>11622</td>\n",
       "      <td>0.0</td>\n",
       "      <td>468.0</td>\n",
       "      <td>144.0</td>\n",
       "      <td>270.0</td>\n",
       "      <td>882.0</td>\n",
       "      <td>896</td>\n",
       "      <td>0</td>\n",
       "      <td>0</td>\n",
       "      <td>...</td>\n",
       "      <td>0</td>\n",
       "      <td>1</td>\n",
       "      <td>0</td>\n",
       "      <td>0</td>\n",
       "      <td>0</td>\n",
       "      <td>0</td>\n",
       "      <td>1</td>\n",
       "      <td>49.0</td>\n",
       "      <td>49.0</td>\n",
       "      <td>49.0</td>\n",
       "    </tr>\n",
       "    <tr>\n",
       "      <th>1461</th>\n",
       "      <td>81.0</td>\n",
       "      <td>14267</td>\n",
       "      <td>108.0</td>\n",
       "      <td>923.0</td>\n",
       "      <td>0.0</td>\n",
       "      <td>406.0</td>\n",
       "      <td>1329.0</td>\n",
       "      <td>1329</td>\n",
       "      <td>0</td>\n",
       "      <td>0</td>\n",
       "      <td>...</td>\n",
       "      <td>0</td>\n",
       "      <td>1</td>\n",
       "      <td>0</td>\n",
       "      <td>0</td>\n",
       "      <td>0</td>\n",
       "      <td>0</td>\n",
       "      <td>1</td>\n",
       "      <td>52.0</td>\n",
       "      <td>52.0</td>\n",
       "      <td>52.0</td>\n",
       "    </tr>\n",
       "    <tr>\n",
       "      <th>1462</th>\n",
       "      <td>74.0</td>\n",
       "      <td>13830</td>\n",
       "      <td>0.0</td>\n",
       "      <td>791.0</td>\n",
       "      <td>0.0</td>\n",
       "      <td>137.0</td>\n",
       "      <td>928.0</td>\n",
       "      <td>928</td>\n",
       "      <td>701</td>\n",
       "      <td>0</td>\n",
       "      <td>...</td>\n",
       "      <td>1</td>\n",
       "      <td>0</td>\n",
       "      <td>0</td>\n",
       "      <td>0</td>\n",
       "      <td>0</td>\n",
       "      <td>0</td>\n",
       "      <td>1</td>\n",
       "      <td>13.0</td>\n",
       "      <td>12.0</td>\n",
       "      <td>13.0</td>\n",
       "    </tr>\n",
       "    <tr>\n",
       "      <th>1463</th>\n",
       "      <td>78.0</td>\n",
       "      <td>9978</td>\n",
       "      <td>20.0</td>\n",
       "      <td>602.0</td>\n",
       "      <td>0.0</td>\n",
       "      <td>324.0</td>\n",
       "      <td>926.0</td>\n",
       "      <td>926</td>\n",
       "      <td>678</td>\n",
       "      <td>0</td>\n",
       "      <td>...</td>\n",
       "      <td>0</td>\n",
       "      <td>1</td>\n",
       "      <td>0</td>\n",
       "      <td>0</td>\n",
       "      <td>0</td>\n",
       "      <td>0</td>\n",
       "      <td>1</td>\n",
       "      <td>12.0</td>\n",
       "      <td>12.0</td>\n",
       "      <td>12.0</td>\n",
       "    </tr>\n",
       "    <tr>\n",
       "      <th>1464</th>\n",
       "      <td>43.0</td>\n",
       "      <td>5005</td>\n",
       "      <td>0.0</td>\n",
       "      <td>263.0</td>\n",
       "      <td>0.0</td>\n",
       "      <td>1017.0</td>\n",
       "      <td>1280.0</td>\n",
       "      <td>1280</td>\n",
       "      <td>0</td>\n",
       "      <td>0</td>\n",
       "      <td>...</td>\n",
       "      <td>1</td>\n",
       "      <td>0</td>\n",
       "      <td>0</td>\n",
       "      <td>0</td>\n",
       "      <td>0</td>\n",
       "      <td>0</td>\n",
       "      <td>1</td>\n",
       "      <td>18.0</td>\n",
       "      <td>18.0</td>\n",
       "      <td>18.0</td>\n",
       "    </tr>\n",
       "    <tr>\n",
       "      <th>1465</th>\n",
       "      <td>75.0</td>\n",
       "      <td>10000</td>\n",
       "      <td>0.0</td>\n",
       "      <td>0.0</td>\n",
       "      <td>0.0</td>\n",
       "      <td>763.0</td>\n",
       "      <td>763.0</td>\n",
       "      <td>763</td>\n",
       "      <td>892</td>\n",
       "      <td>0</td>\n",
       "      <td>...</td>\n",
       "      <td>1</td>\n",
       "      <td>0</td>\n",
       "      <td>0</td>\n",
       "      <td>0</td>\n",
       "      <td>0</td>\n",
       "      <td>0</td>\n",
       "      <td>1</td>\n",
       "      <td>17.0</td>\n",
       "      <td>16.0</td>\n",
       "      <td>17.0</td>\n",
       "    </tr>\n",
       "    <tr>\n",
       "      <th>1466</th>\n",
       "      <td>68.0</td>\n",
       "      <td>7980</td>\n",
       "      <td>0.0</td>\n",
       "      <td>935.0</td>\n",
       "      <td>0.0</td>\n",
       "      <td>233.0</td>\n",
       "      <td>1168.0</td>\n",
       "      <td>1187</td>\n",
       "      <td>0</td>\n",
       "      <td>0</td>\n",
       "      <td>...</td>\n",
       "      <td>0</td>\n",
       "      <td>0</td>\n",
       "      <td>1</td>\n",
       "      <td>0</td>\n",
       "      <td>0</td>\n",
       "      <td>0</td>\n",
       "      <td>1</td>\n",
       "      <td>18.0</td>\n",
       "      <td>3.0</td>\n",
       "      <td>18.0</td>\n",
       "    </tr>\n",
       "    <tr>\n",
       "      <th>1467</th>\n",
       "      <td>63.0</td>\n",
       "      <td>8402</td>\n",
       "      <td>0.0</td>\n",
       "      <td>0.0</td>\n",
       "      <td>0.0</td>\n",
       "      <td>789.0</td>\n",
       "      <td>789.0</td>\n",
       "      <td>789</td>\n",
       "      <td>676</td>\n",
       "      <td>0</td>\n",
       "      <td>...</td>\n",
       "      <td>1</td>\n",
       "      <td>0</td>\n",
       "      <td>0</td>\n",
       "      <td>0</td>\n",
       "      <td>0</td>\n",
       "      <td>0</td>\n",
       "      <td>1</td>\n",
       "      <td>12.0</td>\n",
       "      <td>12.0</td>\n",
       "      <td>12.0</td>\n",
       "    </tr>\n",
       "    <tr>\n",
       "      <th>1468</th>\n",
       "      <td>85.0</td>\n",
       "      <td>10176</td>\n",
       "      <td>0.0</td>\n",
       "      <td>637.0</td>\n",
       "      <td>0.0</td>\n",
       "      <td>663.0</td>\n",
       "      <td>1300.0</td>\n",
       "      <td>1341</td>\n",
       "      <td>0</td>\n",
       "      <td>0</td>\n",
       "      <td>...</td>\n",
       "      <td>1</td>\n",
       "      <td>0</td>\n",
       "      <td>0</td>\n",
       "      <td>0</td>\n",
       "      <td>0</td>\n",
       "      <td>0</td>\n",
       "      <td>1</td>\n",
       "      <td>20.0</td>\n",
       "      <td>20.0</td>\n",
       "      <td>20.0</td>\n",
       "    </tr>\n",
       "    <tr>\n",
       "      <th>1469</th>\n",
       "      <td>70.0</td>\n",
       "      <td>8400</td>\n",
       "      <td>0.0</td>\n",
       "      <td>804.0</td>\n",
       "      <td>78.0</td>\n",
       "      <td>0.0</td>\n",
       "      <td>882.0</td>\n",
       "      <td>882</td>\n",
       "      <td>0</td>\n",
       "      <td>0</td>\n",
       "      <td>...</td>\n",
       "      <td>1</td>\n",
       "      <td>0</td>\n",
       "      <td>0</td>\n",
       "      <td>0</td>\n",
       "      <td>0</td>\n",
       "      <td>0</td>\n",
       "      <td>1</td>\n",
       "      <td>40.0</td>\n",
       "      <td>40.0</td>\n",
       "      <td>40.0</td>\n",
       "    </tr>\n",
       "  </tbody>\n",
       "</table>\n",
       "<p>10 rows × 318 columns</p>\n",
       "</div>"
      ],
      "text/plain": [
       "      LotFrontage  LotArea  MasVnrArea  BsmtFinSF1  BsmtFinSF2  BsmtUnfSF  \\\n",
       "1460         80.0    11622         0.0       468.0       144.0      270.0   \n",
       "1461         81.0    14267       108.0       923.0         0.0      406.0   \n",
       "1462         74.0    13830         0.0       791.0         0.0      137.0   \n",
       "1463         78.0     9978        20.0       602.0         0.0      324.0   \n",
       "1464         43.0     5005         0.0       263.0         0.0     1017.0   \n",
       "1465         75.0    10000         0.0         0.0         0.0      763.0   \n",
       "1466         68.0     7980         0.0       935.0         0.0      233.0   \n",
       "1467         63.0     8402         0.0         0.0         0.0      789.0   \n",
       "1468         85.0    10176         0.0       637.0         0.0      663.0   \n",
       "1469         70.0     8400         0.0       804.0        78.0        0.0   \n",
       "\n",
       "      TotalBsmtSF  1stFlrSF  2ndFlrSF  LowQualFinSF     ...      \\\n",
       "1460        882.0       896         0             0     ...       \n",
       "1461       1329.0      1329         0             0     ...       \n",
       "1462        928.0       928       701             0     ...       \n",
       "1463        926.0       926       678             0     ...       \n",
       "1464       1280.0      1280         0             0     ...       \n",
       "1465        763.0       763       892             0     ...       \n",
       "1466       1168.0      1187         0             0     ...       \n",
       "1467        789.0       789       676             0     ...       \n",
       "1468       1300.0      1341         0             0     ...       \n",
       "1469        882.0       882         0             0     ...       \n",
       "\n",
       "      OverallCond_5  OverallCond_6  OverallCond_7  OverallCond_8  \\\n",
       "1460              0              1              0              0   \n",
       "1461              0              1              0              0   \n",
       "1462              1              0              0              0   \n",
       "1463              0              1              0              0   \n",
       "1464              1              0              0              0   \n",
       "1465              1              0              0              0   \n",
       "1466              0              0              1              0   \n",
       "1467              1              0              0              0   \n",
       "1468              1              0              0              0   \n",
       "1469              1              0              0              0   \n",
       "\n",
       "      OverallCond_9  CentralAir_N  CentralAir_Y  Age_of_house  Remodel_age  \\\n",
       "1460              0             0             1          49.0         49.0   \n",
       "1461              0             0             1          52.0         52.0   \n",
       "1462              0             0             1          13.0         12.0   \n",
       "1463              0             0             1          12.0         12.0   \n",
       "1464              0             0             1          18.0         18.0   \n",
       "1465              0             0             1          17.0         16.0   \n",
       "1466              0             0             1          18.0          3.0   \n",
       "1467              0             0             1          12.0         12.0   \n",
       "1468              0             0             1          20.0         20.0   \n",
       "1469              0             0             1          40.0         40.0   \n",
       "\n",
       "      Garage_age  \n",
       "1460        49.0  \n",
       "1461        52.0  \n",
       "1462        13.0  \n",
       "1463        12.0  \n",
       "1464        18.0  \n",
       "1465        17.0  \n",
       "1466        18.0  \n",
       "1467        12.0  \n",
       "1468        20.0  \n",
       "1469        40.0  \n",
       "\n",
       "[10 rows x 318 columns]"
      ]
     },
     "metadata": {},
     "output_type": "display_data"
    }
   ],
   "source": [
    "def preProcessor(data):\n",
    "    for entry in null_value_majority_columns:\n",
    "        if entry in data.columns:\n",
    "            data.drop([entry], axis=1, inplace = True)\n",
    "    for entry in categorical_data_attributes:\n",
    "        if entry in data.columns:\n",
    "            if data[entry].isnull().sum() > 0:\n",
    "                data[entry] = data[entry].fillna(data[entry].mode()[0])\n",
    "            onehot_encoded = pd.get_dummies(data[entry], dummy_na = False, prefix = entry)\n",
    "            data = pd.concat([data, onehot_encoded],axis=1)\n",
    "            data.drop([entry], axis=1, inplace = True)\n",
    "    for entry in num_cols:\n",
    "        if entry in data.columns:\n",
    "            if data[entry].isnull().sum() > 0:\n",
    "                if entry in ['BsmtFullBath', 'GarageCars', 'BsmtHalfBath']:\n",
    "                    data[entry] = data[entry].fillna(data[entry].mode()[0])\n",
    "                elif entry not in ['GarageArea']:\n",
    "                    data[entry] = data[entry].fillna(data[entry].median())\n",
    "    if 'GarageArea' in data.columns and data['GarageArea'].isnull().sum() > 0:\n",
    "        data['GarageArea'] = data.groupby('GarageCars')['GarageArea'].transform(lambda x: x.fillna(x.median()))\n",
    "    if 'GarageYrBlt' in data.columns and data['GarageYrBlt'].isnull().sum() > 0:\n",
    "        data['GarageYrBlt'] = data['GarageYrBlt'].fillna(data['YearBuilt'])\n",
    "    return data\n",
    "\n",
    "total_data = pd.concat([train_processed, test_processed]).reset_index()\n",
    "total_data.drop(['index'], axis=1, inplace = True)\n",
    "total_data = preProcessor(total_data)\n",
    "total_data['Age_of_house'] = total_data.apply(lambda row: row['YrSold'] - row['YearBuilt'], axis=1)\n",
    "total_data['Remodel_age'] = total_data.apply(lambda row: row['YrSold'] - row['YearRemodAdd'], axis=1)\n",
    "total_data['Garage_age'] = total_data.apply(lambda row: row['YrSold'] - row['GarageYrBlt'], axis=1)\n",
    "total_data.drop(['YearBuilt', 'YearRemodAdd', 'GarageYrBlt'], axis=1, inplace = True)\n",
    "total_data['YrSold'] = total_data['YrSold'].astype(str)\n",
    "\n",
    "train_processed_fin = total_data.iloc[:y_train.shape[0], :]\n",
    "test_processed_fin = total_data.iloc[y_train.shape[0]:, :]\n",
    "print(\"Transformed train data:\")\n",
    "display(train_processed_fin.head(10))\n",
    "print(\"\\nTransformed test data:\")\n",
    "display(test_processed_fin.head(10))"
   ]
  },
  {
   "cell_type": "markdown",
   "metadata": {},
   "source": [
    "Checking if the final transformed data has any null/missing values."
   ]
  },
  {
   "cell_type": "code",
   "execution_count": 18,
   "metadata": {
    "scrolled": false
   },
   "outputs": [
    {
     "data": {
      "text/plain": [
       "Series([], dtype: int64)"
      ]
     },
     "execution_count": 18,
     "metadata": {},
     "output_type": "execute_result"
    }
   ],
   "source": [
    "test = train_processed_fin.isnull().sum()\n",
    "test[test>0]"
   ]
  },
  {
   "cell_type": "markdown",
   "metadata": {},
   "source": [
    "It can be observed that all missing values have been filled."
   ]
  },
  {
   "cell_type": "markdown",
   "metadata": {},
   "source": [
    "<b>Regressor model generation, evaluation and prediction</b>"
   ]
  },
  {
   "cell_type": "markdown",
   "metadata": {},
   "source": [
    "<u>SVM with RBF kernel and gamma selected automatically</u>"
   ]
  },
  {
   "cell_type": "code",
   "execution_count": 31,
   "metadata": {},
   "outputs": [
    {
     "name": "stdout",
     "output_type": "stream",
     "text": [
      "[208500 181500 223500 ... 266500 142125 147500]\n",
      "SVM with RBF kernel accuracy: 1.0\n"
     ]
    }
   ],
   "source": [
    "from sklearn.svm import SVC  \n",
    "svregressor = SVC(kernel='rbf', gamma='auto')\n",
    "svregressor.fit(train_processed_fin, y_train) \n",
    "y_pred = svregressor.predict(train_processed_fin)\n",
    "print(y_pred)\n",
    "print(\"SVM with RBF kernel accuracy:\", np.mean(y_train == y_pred))"
   ]
  },
  {
   "cell_type": "code",
   "execution_count": 32,
   "metadata": {},
   "outputs": [],
   "source": [
    "#Copy of the test data\n",
    "test2 = pd.read_csv(os.path.join('Dataset', 'test.csv'))"
   ]
  },
  {
   "cell_type": "code",
   "execution_count": 35,
   "metadata": {},
   "outputs": [],
   "source": [
    "pred = svclassifier.predict(test_processed_fin)\n",
    "\n",
    "submission_prediction = pd.DataFrame()\n",
    "submission_prediction['Id'] = test2['Id']\n",
    "submission_prediction['SalePrice'] = pred\n",
    "\n",
    "submission_prediction.to_csv('submission.csv', index=False)"
   ]
  },
  {
   "cell_type": "markdown",
   "metadata": {},
   "source": [
    "<u>Kaggle score:</u> 0.44840"
   ]
  },
  {
   "cell_type": "markdown",
   "metadata": {},
   "source": [
    "<u>Random forest regressor</u>"
   ]
  },
  {
   "cell_type": "code",
   "execution_count": 29,
   "metadata": {},
   "outputs": [
    {
     "name": "stdout",
     "output_type": "stream",
     "text": [
      "Random forest classifier MSE: 121194007.07529189\n"
     ]
    }
   ],
   "source": [
    "from sklearn.ensemble import RandomForestRegressor\n",
    "clf = RandomForestRegressor(n_estimators = 1000, random_state = 42)\n",
    "clf = clf.fit(train_processed_fin, y_train)\n",
    "y_pred = clf.predict(train_processed_fin)\n",
    "print(\"Random forest classifier MSE:\", mean_squared_error(y_train, y_pred))"
   ]
  },
  {
   "cell_type": "code",
   "execution_count": 37,
   "metadata": {},
   "outputs": [],
   "source": [
    "y_pred = clf.predict(test_processed_fin)\n",
    "\n",
    "submission_prediction = pd.DataFrame()\n",
    "submission_prediction['Id'] = test2['Id']\n",
    "submission_prediction['SalePrice'] = y_pred\n",
    "\n",
    "submission_prediction.to_csv('submission.csv', index=False)"
   ]
  },
  {
   "cell_type": "markdown",
   "metadata": {},
   "source": [
    "<u>Kaggle score:</u> 0.15896"
   ]
  },
  {
   "cell_type": "markdown",
   "metadata": {},
   "source": [
    "<u>Gradient boosting</u>"
   ]
  },
  {
   "cell_type": "code",
   "execution_count": 38,
   "metadata": {},
   "outputs": [
    {
     "data": {
      "text/plain": [
       "7724582.008148395"
      ]
     },
     "execution_count": 38,
     "metadata": {},
     "output_type": "execute_result"
    }
   ],
   "source": [
    "gb = GradientBoostingRegressor(n_estimators=50, learning_rate = 1, max_depth = 5, random_state = 0)\n",
    "gb.fit(train_processed_fin, y_train)\n",
    "y_pred = gb.predict(train_processed_fin)\n",
    "mean_squared_error(y_train, y_pred)"
   ]
  },
  {
   "cell_type": "code",
   "execution_count": 39,
   "metadata": {},
   "outputs": [],
   "source": [
    "y_pred = gb.predict(test_processed_fin)\n",
    "\n",
    "submission_prediction = pd.DataFrame()\n",
    "submission_prediction['Id'] = test2['Id']\n",
    "submission_prediction['SalePrice'] = y_pred\n",
    "\n",
    "submission_prediction.to_csv('submission.csv', index=False)"
   ]
  },
  {
   "cell_type": "markdown",
   "metadata": {},
   "source": [
    "<u>Kaggle score:</u> 0.62641"
   ]
  },
  {
   "cell_type": "markdown",
   "metadata": {},
   "source": [
    "<u>Applying GridSearchCV to tune the hyperparameters for Gradient Boosting</u>"
   ]
  },
  {
   "cell_type": "code",
   "execution_count": 40,
   "metadata": {},
   "outputs": [
    {
     "name": "stdout",
     "output_type": "stream",
     "text": [
      "Best parameter values after grid search: {'learning_rate': 0.1, 'max_depth': 5, 'n_estimators': 50}\n"
     ]
    }
   ],
   "source": [
    "from sklearn.model_selection import GridSearchCV\n",
    "\n",
    "parameters = {\n",
    "    \"learning_rate\": [0.05, 0.1, 0.2, 0.5, 1],#[0.01, 0.025, 0.05, 0.075, 0.1, 0.15, 0.2, 0.25, 0.3, 0.35, 0.4, 0.45, 0.5],\n",
    "    \"max_depth\":[3,5,8, 10, 12, 15],\n",
    "    \"n_estimators\":[50]\n",
    "    }\n",
    "\n",
    "clf = GridSearchCV(gb, parameters, cv=10, n_jobs=-1)\n",
    "\n",
    "clf = clf.fit(train_processed_fin, y_train)\n",
    "y_pred = clf.predict(train_processed_fin)\n",
    "print(\"Best parameter values after grid search:\", clf.best_params_)"
   ]
  },
  {
   "cell_type": "markdown",
   "metadata": {},
   "source": [
    "<u>Applying the identified parameter values to Gradient Boosting</u>"
   ]
  },
  {
   "cell_type": "code",
   "execution_count": 41,
   "metadata": {},
   "outputs": [
    {
     "data": {
      "text/plain": [
       "118855569.22669393"
      ]
     },
     "execution_count": 41,
     "metadata": {},
     "output_type": "execute_result"
    }
   ],
   "source": [
    "gb = GradientBoostingRegressor(n_estimators=50, learning_rate = 0.1, max_depth = 5, random_state = 0)\n",
    "gb.fit(train_processed_fin, y_train)\n",
    "y_pred = gb.predict(train_processed_fin)\n",
    "mean_squared_error(y_train, y_pred)"
   ]
  },
  {
   "cell_type": "code",
   "execution_count": 42,
   "metadata": {},
   "outputs": [],
   "source": [
    "y_pred = gb.predict(test_processed_fin)\n",
    "\n",
    "submission_prediction = pd.DataFrame()\n",
    "submission_prediction['Id'] = test2['Id']\n",
    "submission_prediction['SalePrice'] = y_pred\n",
    "\n",
    "submission_prediction.to_csv('submission.csv', index=False)"
   ]
  },
  {
   "cell_type": "markdown",
   "metadata": {},
   "source": [
    "<u>Kaggle score:</u> 0.15225"
   ]
  },
  {
   "cell_type": "markdown",
   "metadata": {},
   "source": [
    "<u>Lasso Regression</u>"
   ]
  },
  {
   "cell_type": "code",
   "execution_count": 43,
   "metadata": {},
   "outputs": [
    {
     "data": {
      "text/plain": [
       "397620494.3062208"
      ]
     },
     "execution_count": 43,
     "metadata": {},
     "output_type": "execute_result"
    }
   ],
   "source": [
    "from sklearn.linear_model import Lasso\n",
    "ls = Lasso(alpha=1,normalize=True, max_iter=1e5)\n",
    "ls.fit(train_processed_fin, y_train)\n",
    "y_pred = ls.predict(train_processed_fin)\n",
    "mean_squared_error(y_train, y_pred)"
   ]
  },
  {
   "cell_type": "code",
   "execution_count": 44,
   "metadata": {},
   "outputs": [],
   "source": [
    "y_pred = ls.predict(test_processed_fin)\n",
    "\n",
    "submission_prediction = pd.DataFrame()\n",
    "submission_prediction['Id'] = test2['Id']\n",
    "submission_prediction['SalePrice'] = y_pred\n",
    "\n",
    "submission_prediction.to_csv('submission.csv', index=False)"
   ]
  },
  {
   "cell_type": "markdown",
   "metadata": {},
   "source": [
    "<u>Kaggle score:</u> 0.18872"
   ]
  },
  {
   "cell_type": "markdown",
   "metadata": {},
   "source": [
    "<u>Basic Keras model</u>"
   ]
  },
  {
   "cell_type": "code",
   "execution_count": 45,
   "metadata": {
    "scrolled": false
   },
   "outputs": [
    {
     "name": "stdout",
     "output_type": "stream",
     "text": [
      "WARNING:tensorflow:From C:\\Users\\suji1\\Anaconda3\\envs\\cs418env\\lib\\site-packages\\tensorflow\\python\\ops\\resource_variable_ops.py:435: colocate_with (from tensorflow.python.framework.ops) is deprecated and will be removed in a future version.\n",
      "Instructions for updating:\n",
      "Colocations handled automatically by placer.\n",
      "WARNING:tensorflow:From C:\\Users\\suji1\\Anaconda3\\envs\\cs418env\\lib\\site-packages\\tensorflow\\python\\keras\\utils\\losses_utils.py:170: to_float (from tensorflow.python.ops.math_ops) is deprecated and will be removed in a future version.\n",
      "Instructions for updating:\n",
      "Use tf.cast instead.\n",
      "Train on 1168 samples, validate on 292 samples\n",
      "WARNING:tensorflow:From C:\\Users\\suji1\\Anaconda3\\envs\\cs418env\\lib\\site-packages\\tensorflow\\python\\ops\\math_ops.py:3066: to_int32 (from tensorflow.python.ops.math_ops) is deprecated and will be removed in a future version.\n",
      "Instructions for updating:\n",
      "Use tf.cast instead.\n",
      "Epoch 1/30\n",
      "1168/1168 [==============================] - 1s 640us/sample - loss: 30812332053.0411 - mean_squared_error: 30812325888.0000 - mean_absolute_error: 104039.6719 - acc: 0.0000e+00 - val_loss: 9005215950.9041 - val_mean_squared_error: 9005215744.0000 - val_mean_absolute_error: 66078.9141 - val_acc: 0.0000e+00\n",
      "Epoch 2/30\n",
      "1168/1168 [==============================] - 0s 272us/sample - loss: 8385561256.3288 - mean_squared_error: 8385562112.0000 - mean_absolute_error: 51670.1406 - acc: 0.0000e+00 - val_loss: 4724923786.7123 - val_mean_squared_error: 4724923904.0000 - val_mean_absolute_error: 41162.0547 - val_acc: 0.0000e+00\n",
      "Epoch 3/30\n",
      "1168/1168 [==============================] - 0s 269us/sample - loss: 3633046570.0822 - mean_squared_error: 3633047296.0000 - mean_absolute_error: 37246.7656 - acc: 0.0000e+00 - val_loss: 3571563399.0137 - val_mean_squared_error: 3571563520.0000 - val_mean_absolute_error: 36171.3008 - val_acc: 0.0000e+00\n",
      "Epoch 4/30\n",
      "1168/1168 [==============================] - 0s 268us/sample - loss: 2408739578.7397 - mean_squared_error: 2408739584.0000 - mean_absolute_error: 32478.0762 - acc: 0.0000e+00 - val_loss: 3242690317.1507 - val_mean_squared_error: 3242690560.0000 - val_mean_absolute_error: 33480.1055 - val_acc: 0.0000e+00\n",
      "Epoch 5/30\n",
      "1168/1168 [==============================] - 0s 272us/sample - loss: 2075194951.8904 - mean_squared_error: 2075194752.0000 - mean_absolute_error: 31402.0586 - acc: 0.0000e+00 - val_loss: 3207899202.6301 - val_mean_squared_error: 3207898880.0000 - val_mean_absolute_error: 32471.7324 - val_acc: 0.0000e+00\n",
      "Epoch 6/30\n",
      "1168/1168 [==============================] - 0s 279us/sample - loss: 1868104235.8356 - mean_squared_error: 1868104192.0000 - mean_absolute_error: 29011.3906 - acc: 0.0000e+00 - val_loss: 3082895829.9178 - val_mean_squared_error: 3082895872.0000 - val_mean_absolute_error: 30034.3594 - val_acc: 0.0000e+00\n",
      "Epoch 7/30\n",
      "1168/1168 [==============================] - 0s 294us/sample - loss: 1720594744.1096 - mean_squared_error: 1720594688.0000 - mean_absolute_error: 27443.0176 - acc: 0.0000e+00 - val_loss: 3106812291.9452 - val_mean_squared_error: 3106812160.0000 - val_mean_absolute_error: 29453.5684 - val_acc: 0.0000e+00\n",
      "Epoch 8/30\n",
      "1168/1168 [==============================] - 0s 299us/sample - loss: 1602879289.8630 - mean_squared_error: 1602879232.0000 - mean_absolute_error: 26261.5332 - acc: 0.0000e+00 - val_loss: 3106827960.1096 - val_mean_squared_error: 3106828032.0000 - val_mean_absolute_error: 28889.7598 - val_acc: 0.0000e+00\n",
      "Epoch 9/30\n",
      "1168/1168 [==============================] - 0s 317us/sample - loss: 1542508738.6301 - mean_squared_error: 1542508544.0000 - mean_absolute_error: 25517.8887 - acc: 0.0000e+00 - val_loss: 3180455971.0685 - val_mean_squared_error: 3180455936.0000 - val_mean_absolute_error: 28640.2285 - val_acc: 0.0000e+00\n",
      "1460/1460 [==============================] - 0s 81us/sample - loss: 1819958021.6110 - mean_squared_error: 1819958016.0000 - mean_absolute_error: 25618.3691 - acc: 0.0000e+00\n"
     ]
    },
    {
     "data": {
      "text/plain": [
       "[1819958021.6109588, 1819958000.0, 25618.37, 0.0]"
      ]
     },
     "execution_count": 45,
     "metadata": {},
     "output_type": "execute_result"
    }
   ],
   "source": [
    "import tensorflow as tf\n",
    "from tensorflow.keras.models import Sequential\n",
    "from tensorflow.keras.layers import Dense, Dropout, Activation, Flatten, Conv2D, MaxPooling2D\n",
    "from tensorflow.keras.callbacks import EarlyStopping\n",
    "from tensorflow.keras.models import load_model\n",
    "from tensorflow.keras.wrappers.scikit_learn import KerasRegressor\n",
    "from sklearn.model_selection import cross_val_score\n",
    "from sklearn.model_selection import KFold\n",
    "\n",
    "import warnings\n",
    "warnings.filterwarnings(\"ignore\")\n",
    "\n",
    "early_stopping_monitor = EarlyStopping(patience=3) #Hyperparameter tuning\n",
    "\n",
    "#def baseline_model():\n",
    "model = tf.keras.models.Sequential() #Sequential model\n",
    "model.add(tf.keras.layers.Dense(1024, input_dim=train_processed_fin.shape[1], activation=tf.nn.relu, kernel_initializer='normal'))\n",
    "model.add(tf.keras.layers.Dense(512, activation=tf.nn.relu))\n",
    "model.add(tf.keras.layers.Dense(128, activation=tf.nn.relu))\n",
    "model.add(tf.keras.layers.Dense(1, activation='linear'))\n",
    "\n",
    "model.compile(optimizer='adam', loss='mean_squared_error', metrics=['mse','mae','accuracy'])\n",
    "\n",
    "seed = 7\n",
    "np.random.seed(seed)\n",
    "\n",
    "model.fit(train_processed_fin.as_matrix(), \n",
    "           y_train.as_matrix(), \n",
    "           batch_size=32, #Setting batch size for ease of processing in local machines\n",
    "           epochs=30, #Maximum of 30 epochs\n",
    "           validation_split=0.2, \n",
    "           callbacks=[early_stopping_monitor]) #Early stopping hyperparameter\n",
    "\n",
    "# print(\"Evaluating training accuracy...\")\n",
    "model.evaluate(train_processed_fin.as_matrix(), y_train.as_matrix())"
   ]
  },
  {
   "cell_type": "markdown",
   "metadata": {},
   "source": [
    "<u>Note:</u> This model is not utilized for submission since the MSE is very high."
   ]
  },
  {
   "cell_type": "markdown",
   "metadata": {},
   "source": [
    "<b>Final results:</b>\n",
    "<br>\n",
    "The best performing model is Gradient Boosting model (with hyperparameter tuning) with a Kaggle score of <b>0.15225</b>"
   ]
  }
 ],
 "metadata": {
  "kernelspec": {
   "display_name": "Python 3",
   "language": "python",
   "name": "python3"
  },
  "language_info": {
   "codemirror_mode": {
    "name": "ipython",
    "version": 3
   },
   "file_extension": ".py",
   "mimetype": "text/x-python",
   "name": "python",
   "nbconvert_exporter": "python",
   "pygments_lexer": "ipython3",
   "version": "3.7.1"
  }
 },
 "nbformat": 4,
 "nbformat_minor": 2
}
